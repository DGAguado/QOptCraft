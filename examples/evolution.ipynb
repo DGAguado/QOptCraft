{
 "cells": [
  {
   "attachments": {},
   "cell_type": "markdown",
   "metadata": {},
   "source": [
    "# Evolution of photonic states through a linear interferometer"
   ]
  },
  {
   "cell_type": "code",
   "execution_count": 1,
   "metadata": {},
   "outputs": [],
   "source": [
    "import numpy as np\n",
    "\n",
    "from qoptcraft.evolution import photon_unitary\n",
    "from qoptcraft.optical_elements import beam_splitter\n",
    "from qoptcraft.operators import haar_random_unitary\n",
    "\n",
    "\n",
    "np.set_printoptions(precision=2)"
   ]
  },
  {
   "attachments": {},
   "cell_type": "markdown",
   "metadata": {},
   "source": [
    "We can begin by quantizing a simple beam splitter:"
   ]
  },
  {
   "cell_type": "code",
   "execution_count": 2,
   "metadata": {},
   "outputs": [],
   "source": [
    "modes = 4\n",
    "photons = 3"
   ]
  },
  {
   "cell_type": "code",
   "execution_count": 3,
   "metadata": {},
   "outputs": [],
   "source": [
    "bs = beam_splitter(angle=2, shift=0, dim=modes, mode_1=1, mode_2=2)\n",
    "photonic_bs = photon_unitary_permanent(bs, photons, method=\"ryser\")"
   ]
  },
  {
   "attachments": {},
   "cell_type": "markdown",
   "metadata": {},
   "source": [
    "Now we can try with a random unitary:"
   ]
  },
  {
   "cell_type": "code",
   "execution_count": 4,
   "metadata": {},
   "outputs": [],
   "source": [
    "random_s = haar_random_unitary(modes)\n",
    "unitary = photon_unitary(random_s, photons)\n",
    "unitary_from_H = photon_unitary_hamiltonian(random_s, photons)\n",
    "unitary_glynn = photon_unitary_permanent(random_s, photons, method=\"glynn\")\n",
    "unitary_ryser = photon_unitary_permanent(random_s, photons, method=\"ryser\")"
   ]
  },
  {
   "attachments": {},
   "cell_type": "markdown",
   "metadata": {},
   "source": [
    "We can check that all of them give the same matrix, albeit a global phase."
   ]
  },
  {
   "cell_type": "code",
   "execution_count": 5,
   "metadata": {},
   "outputs": [],
   "source": [
    "from itertools import combinations\n",
    "from numpy.testing import assert_allclose\n",
    "\n",
    "for U_1, U_2 in combinations([unitary, unitary_from_H, unitary_glynn, unitary_ryser], 2):\n",
    "    try:\n",
    "        assert_allclose(U_1, U_2)\n",
    "    except AssertionError:\n",
    "        assert_allclose(U_1, -U_2)"
   ]
  },
  {
   "attachments": {},
   "cell_type": "markdown",
   "metadata": {},
   "source": [
    "If we are only interested in the output of a Fock state, we can use another function"
   ]
  },
  {
   "cell_type": "code",
   "execution_count": 6,
   "metadata": {},
   "outputs": [],
   "source": [
    "from qoptcraft.evolution import fock_evolution, fock_evolution_permanent"
   ]
  },
  {
   "cell_type": "code",
   "execution_count": 7,
   "metadata": {},
   "outputs": [
    {
     "data": {
      "text/plain": [
       "array([ 0.  +0.j,  0.91+0.j,  0.  +0.j, -0.42+0.j,  0.  +0.j,  0.  +0.j,\n",
       "        0.  +0.j,  0.  +0.j,  0.  +0.j,  0.  +0.j])"
      ]
     },
     "execution_count": 7,
     "metadata": {},
     "output_type": "execute_result"
    }
   ],
   "source": [
    "in_state = (0,1,0,1)\n",
    "out_state = fock_evolution_permanent(bs, in_state)\n",
    "out_state"
   ]
  },
  {
   "cell_type": "code",
   "execution_count": 8,
   "metadata": {},
   "outputs": [
    {
     "data": {
      "text/plain": [
       "0.9999999401495314"
      ]
     },
     "execution_count": 8,
     "metadata": {},
     "output_type": "execute_result"
    }
   ],
   "source": [
    "np.abs(out_state @ out_state.conj().T)**2"
   ]
  },
  {
   "cell_type": "code",
   "execution_count": 9,
   "metadata": {},
   "outputs": [
    {
     "data": {
      "text/plain": [
       "array([[-1.00e+00+0.j,  0.00e+00+0.j,  0.00e+00+0.j,  0.00e+00+0.j,\n",
       "         0.00e+00+0.j,  0.00e+00+0.j,  0.00e+00+0.j,  0.00e+00+0.j,\n",
       "         0.00e+00+0.j,  0.00e+00+0.j,  0.00e+00+0.j,  0.00e+00+0.j,\n",
       "         0.00e+00+0.j,  0.00e+00+0.j,  0.00e+00+0.j,  0.00e+00+0.j,\n",
       "         0.00e+00+0.j,  0.00e+00+0.j,  0.00e+00+0.j,  0.00e+00+0.j],\n",
       "       [ 0.00e+00+0.j,  4.16e-01-0.j,  0.00e+00+0.j,  0.00e+00+0.j,\n",
       "        -9.09e-01+0.j,  0.00e+00+0.j,  0.00e+00+0.j,  0.00e+00+0.j,\n",
       "         0.00e+00+0.j,  0.00e+00+0.j,  0.00e+00+0.j,  0.00e+00+0.j,\n",
       "         0.00e+00+0.j,  0.00e+00+0.j,  0.00e+00+0.j,  0.00e+00+0.j,\n",
       "         0.00e+00+0.j,  0.00e+00+0.j,  0.00e+00+0.j,  0.00e+00+0.j],\n",
       "       [ 0.00e+00+0.j,  0.00e+00+0.j, -1.73e-01+0.j, -1.20e-17+0.j,\n",
       "         0.00e+00+0.j,  5.35e-01-0.j,  5.55e-17-0.j, -8.27e-01+0.j,\n",
       "        -5.55e-17+0.j, -3.20e-17+0.j,  0.00e+00+0.j,  0.00e+00+0.j,\n",
       "         0.00e+00+0.j,  0.00e+00+0.j,  0.00e+00+0.j,  0.00e+00+0.j,\n",
       "         0.00e+00+0.j,  0.00e+00+0.j,  0.00e+00+0.j,  0.00e+00+0.j],\n",
       "       [ 0.00e+00+0.j,  0.00e+00+0.j,  0.00e+00+0.j,  7.21e-02-0.j,\n",
       "         0.00e+00+0.j,  0.00e+00+0.j, -2.73e-01+0.j,  0.00e+00+0.j,\n",
       "         5.96e-01-0.j, -7.52e-01+0.j,  0.00e+00+0.j,  0.00e+00+0.j,\n",
       "         0.00e+00+0.j,  0.00e+00+0.j,  0.00e+00+0.j,  0.00e+00+0.j,\n",
       "         0.00e+00+0.j,  0.00e+00+0.j,  0.00e+00+0.j,  0.00e+00+0.j],\n",
       "       [ 0.00e+00+0.j,  9.09e-01-0.j,  0.00e+00+0.j,  0.00e+00+0.j,\n",
       "         4.16e-01-0.j,  0.00e+00+0.j,  0.00e+00+0.j,  0.00e+00+0.j,\n",
       "         0.00e+00+0.j,  0.00e+00+0.j,  0.00e+00+0.j,  0.00e+00+0.j,\n",
       "         0.00e+00+0.j,  0.00e+00+0.j,  0.00e+00+0.j,  0.00e+00+0.j,\n",
       "         0.00e+00+0.j,  0.00e+00+0.j,  0.00e+00+0.j,  0.00e+00+0.j],\n",
       "       [ 0.00e+00+0.j,  0.00e+00+0.j, -5.35e-01+0.j,  4.53e-17-0.j,\n",
       "         0.00e+00+0.j,  6.54e-01-0.j,  0.00e+00+0.j,  5.35e-01-0.j,\n",
       "         0.00e+00+0.j, -5.67e-18+0.j,  0.00e+00+0.j,  0.00e+00+0.j,\n",
       "         0.00e+00+0.j,  0.00e+00+0.j,  0.00e+00+0.j,  0.00e+00+0.j,\n",
       "         0.00e+00+0.j,  0.00e+00+0.j,  0.00e+00+0.j,  0.00e+00+0.j],\n",
       "       [ 0.00e+00+0.j,  0.00e+00+0.j,  0.00e+00+0.j,  2.73e-01-0.j,\n",
       "         0.00e+00+0.j,  0.00e+00+0.j, -6.16e-01+0.j,  0.00e+00+0.j,\n",
       "         4.37e-01-0.j,  5.96e-01-0.j,  0.00e+00+0.j,  0.00e+00+0.j,\n",
       "         0.00e+00+0.j,  0.00e+00+0.j,  0.00e+00+0.j,  0.00e+00+0.j,\n",
       "         0.00e+00+0.j,  0.00e+00+0.j,  0.00e+00+0.j,  0.00e+00+0.j],\n",
       "       [ 0.00e+00+0.j,  0.00e+00+0.j, -8.27e-01+0.j,  3.20e-17-0.j,\n",
       "         0.00e+00+0.j, -5.35e-01+0.j, -5.55e-17+0.j, -1.73e-01+0.j,\n",
       "        -5.55e-17+0.j, -1.20e-17+0.j,  0.00e+00+0.j,  0.00e+00+0.j,\n",
       "         0.00e+00+0.j,  0.00e+00+0.j,  0.00e+00+0.j,  0.00e+00+0.j,\n",
       "         0.00e+00+0.j,  0.00e+00+0.j,  0.00e+00+0.j,  0.00e+00+0.j],\n",
       "       [ 0.00e+00+0.j,  0.00e+00+0.j,  0.00e+00+0.j,  5.96e-01-0.j,\n",
       "         0.00e+00+0.j,  0.00e+00+0.j, -4.37e-01+0.j,  0.00e+00+0.j,\n",
       "        -6.16e-01+0.j, -2.73e-01+0.j,  0.00e+00+0.j,  0.00e+00+0.j,\n",
       "         0.00e+00+0.j,  0.00e+00+0.j,  0.00e+00+0.j,  0.00e+00+0.j,\n",
       "         0.00e+00+0.j,  0.00e+00+0.j,  0.00e+00+0.j,  0.00e+00+0.j],\n",
       "       [ 0.00e+00+0.j,  0.00e+00+0.j,  0.00e+00+0.j,  7.52e-01-0.j,\n",
       "         0.00e+00+0.j,  0.00e+00+0.j,  5.96e-01-0.j,  0.00e+00+0.j,\n",
       "         2.73e-01-0.j,  7.21e-02-0.j,  0.00e+00+0.j,  0.00e+00+0.j,\n",
       "         0.00e+00+0.j,  0.00e+00+0.j,  0.00e+00+0.j,  0.00e+00+0.j,\n",
       "         0.00e+00+0.j,  0.00e+00+0.j,  0.00e+00+0.j,  0.00e+00+0.j],\n",
       "       [ 0.00e+00+0.j,  0.00e+00+0.j,  0.00e+00+0.j,  0.00e+00+0.j,\n",
       "         0.00e+00+0.j,  0.00e+00+0.j,  0.00e+00+0.j,  0.00e+00+0.j,\n",
       "         0.00e+00+0.j,  0.00e+00+0.j, -1.00e+00+0.j,  0.00e+00+0.j,\n",
       "         0.00e+00+0.j,  0.00e+00+0.j,  0.00e+00+0.j,  0.00e+00+0.j,\n",
       "         0.00e+00+0.j,  0.00e+00+0.j,  0.00e+00+0.j,  0.00e+00+0.j],\n",
       "       [ 0.00e+00+0.j,  0.00e+00+0.j,  0.00e+00+0.j,  0.00e+00+0.j,\n",
       "         0.00e+00+0.j,  0.00e+00+0.j,  0.00e+00+0.j,  0.00e+00+0.j,\n",
       "         0.00e+00+0.j,  0.00e+00+0.j,  0.00e+00+0.j,  4.16e-01-0.j,\n",
       "         0.00e+00+0.j, -9.09e-01+0.j,  0.00e+00+0.j,  0.00e+00+0.j,\n",
       "         0.00e+00+0.j,  0.00e+00+0.j,  0.00e+00+0.j,  0.00e+00+0.j],\n",
       "       [ 0.00e+00+0.j,  0.00e+00+0.j,  0.00e+00+0.j,  0.00e+00+0.j,\n",
       "         0.00e+00+0.j,  0.00e+00+0.j,  0.00e+00+0.j,  0.00e+00+0.j,\n",
       "         0.00e+00+0.j,  0.00e+00+0.j,  0.00e+00+0.j,  0.00e+00+0.j,\n",
       "        -1.73e-01+0.j,  0.00e+00+0.j,  5.35e-01-0.j, -8.27e-01+0.j,\n",
       "         0.00e+00+0.j,  0.00e+00+0.j,  0.00e+00+0.j,  0.00e+00+0.j],\n",
       "       [ 0.00e+00+0.j,  0.00e+00+0.j,  0.00e+00+0.j,  0.00e+00+0.j,\n",
       "         0.00e+00+0.j,  0.00e+00+0.j,  0.00e+00+0.j,  0.00e+00+0.j,\n",
       "         0.00e+00+0.j,  0.00e+00+0.j,  0.00e+00+0.j,  9.09e-01-0.j,\n",
       "         0.00e+00+0.j,  4.16e-01-0.j,  0.00e+00+0.j,  0.00e+00+0.j,\n",
       "         0.00e+00+0.j,  0.00e+00+0.j,  0.00e+00+0.j,  0.00e+00+0.j],\n",
       "       [ 0.00e+00+0.j,  0.00e+00+0.j,  0.00e+00+0.j,  0.00e+00+0.j,\n",
       "         0.00e+00+0.j,  0.00e+00+0.j,  0.00e+00+0.j,  0.00e+00+0.j,\n",
       "         0.00e+00+0.j,  0.00e+00+0.j,  0.00e+00+0.j,  0.00e+00+0.j,\n",
       "        -5.35e-01+0.j,  0.00e+00+0.j,  6.54e-01-0.j,  5.35e-01-0.j,\n",
       "         0.00e+00+0.j,  0.00e+00+0.j,  0.00e+00+0.j,  0.00e+00+0.j],\n",
       "       [ 0.00e+00+0.j,  0.00e+00+0.j,  0.00e+00+0.j,  0.00e+00+0.j,\n",
       "         0.00e+00+0.j,  0.00e+00+0.j,  0.00e+00+0.j,  0.00e+00+0.j,\n",
       "         0.00e+00+0.j,  0.00e+00+0.j,  0.00e+00+0.j,  0.00e+00+0.j,\n",
       "        -8.27e-01+0.j,  0.00e+00+0.j, -5.35e-01+0.j, -1.73e-01+0.j,\n",
       "         0.00e+00+0.j,  0.00e+00+0.j,  0.00e+00+0.j,  0.00e+00+0.j],\n",
       "       [ 0.00e+00+0.j,  0.00e+00+0.j,  0.00e+00+0.j,  0.00e+00+0.j,\n",
       "         0.00e+00+0.j,  0.00e+00+0.j,  0.00e+00+0.j,  0.00e+00+0.j,\n",
       "         0.00e+00+0.j,  0.00e+00+0.j,  0.00e+00+0.j,  0.00e+00+0.j,\n",
       "         0.00e+00+0.j,  0.00e+00+0.j,  0.00e+00+0.j,  0.00e+00+0.j,\n",
       "        -1.00e+00+0.j,  0.00e+00+0.j,  0.00e+00+0.j,  0.00e+00+0.j],\n",
       "       [ 0.00e+00+0.j,  0.00e+00+0.j,  0.00e+00+0.j,  0.00e+00+0.j,\n",
       "         0.00e+00+0.j,  0.00e+00+0.j,  0.00e+00+0.j,  0.00e+00+0.j,\n",
       "         0.00e+00+0.j,  0.00e+00+0.j,  0.00e+00+0.j,  0.00e+00+0.j,\n",
       "         0.00e+00+0.j,  0.00e+00+0.j,  0.00e+00+0.j,  0.00e+00+0.j,\n",
       "         0.00e+00+0.j,  4.16e-01-0.j, -9.09e-01+0.j,  0.00e+00+0.j],\n",
       "       [ 0.00e+00+0.j,  0.00e+00+0.j,  0.00e+00+0.j,  0.00e+00+0.j,\n",
       "         0.00e+00+0.j,  0.00e+00+0.j,  0.00e+00+0.j,  0.00e+00+0.j,\n",
       "         0.00e+00+0.j,  0.00e+00+0.j,  0.00e+00+0.j,  0.00e+00+0.j,\n",
       "         0.00e+00+0.j,  0.00e+00+0.j,  0.00e+00+0.j,  0.00e+00+0.j,\n",
       "         0.00e+00+0.j,  9.09e-01-0.j,  4.16e-01-0.j,  0.00e+00+0.j],\n",
       "       [ 0.00e+00+0.j,  0.00e+00+0.j,  0.00e+00+0.j,  0.00e+00+0.j,\n",
       "         0.00e+00+0.j,  0.00e+00+0.j,  0.00e+00+0.j,  0.00e+00+0.j,\n",
       "         0.00e+00+0.j,  0.00e+00+0.j,  0.00e+00+0.j,  0.00e+00+0.j,\n",
       "         0.00e+00+0.j,  0.00e+00+0.j,  0.00e+00+0.j,  0.00e+00+0.j,\n",
       "         0.00e+00+0.j,  0.00e+00+0.j,  0.00e+00+0.j, -1.00e+00+0.j]])"
      ]
     },
     "execution_count": 9,
     "metadata": {},
     "output_type": "execute_result"
    }
   ],
   "source": [
    "photonic_bs"
   ]
  },
  {
   "cell_type": "code",
   "execution_count": 1,
   "metadata": {},
   "outputs": [
    {
     "ename": "ModuleNotFoundError",
     "evalue": "No module named 'qoptcraft.evolution.hamiltonian_evolution'",
     "output_type": "error",
     "traceback": [
      "\u001b[0;31m---------------------------------------------------------------------------\u001b[0m",
      "\u001b[0;31mModuleNotFoundError\u001b[0m                       Traceback (most recent call last)",
      "Cell \u001b[0;32mIn[1], line 1\u001b[0m\n\u001b[0;32m----> 1\u001b[0m \u001b[39mfrom\u001b[39;00m \u001b[39mqoptcraft\u001b[39;00m\u001b[39m.\u001b[39;00m\u001b[39moptical_elements\u001b[39;00m \u001b[39mimport\u001b[39;00m beam_splitter\n\u001b[1;32m      2\u001b[0m \u001b[39mimport\u001b[39;00m \u001b[39mnumpy\u001b[39;00m \u001b[39mas\u001b[39;00m \u001b[39mnp\u001b[39;00m\n\u001b[1;32m      4\u001b[0m S \u001b[39m=\u001b[39m beam_splitter(np\u001b[39m.\u001b[39mpi\u001b[39m/\u001b[39m\u001b[39m4\u001b[39m, \u001b[39m0\u001b[39m, \u001b[39m2\u001b[39m, \u001b[39m0\u001b[39m, \u001b[39m1\u001b[39m)\n",
      "File \u001b[0;32m~/Documents/Code projects/QOptCraft/qoptcraft/__init__.py:6\u001b[0m\n\u001b[1;32m      3\u001b[0m \u001b[39m# from . import _legacy\u001b[39;00m\n\u001b[1;32m      4\u001b[0m \u001b[39mfrom\u001b[39;00m \u001b[39m.\u001b[39;00m \u001b[39mimport\u001b[39;00m basis\n\u001b[0;32m----> 6\u001b[0m \u001b[39mfrom\u001b[39;00m \u001b[39m.\u001b[39;00m \u001b[39mimport\u001b[39;00m evolution\n\u001b[1;32m      7\u001b[0m \u001b[39mfrom\u001b[39;00m \u001b[39m.\u001b[39;00m \u001b[39mimport\u001b[39;00m invariant\n\u001b[1;32m      8\u001b[0m \u001b[39mfrom\u001b[39;00m \u001b[39m.\u001b[39;00m \u001b[39mimport\u001b[39;00m math\n",
      "File \u001b[0;32m~/Documents/Code projects/QOptCraft/qoptcraft/evolution/__init__.py:1\u001b[0m\n\u001b[0;32m----> 1\u001b[0m \u001b[39mfrom\u001b[39;00m \u001b[39m.\u001b[39;00m\u001b[39mhamiltonian_evolution\u001b[39;00m \u001b[39mimport\u001b[39;00m photon_hamiltonian, photon_unitary_hamiltonian\n\u001b[1;32m      2\u001b[0m \u001b[39mfrom\u001b[39;00m \u001b[39m.\u001b[39;00m\u001b[39mpermanent_evolution\u001b[39;00m \u001b[39mimport\u001b[39;00m photon_unitary_permanent, fock_evolution_permanent\n\u001b[1;32m      3\u001b[0m \u001b[39mfrom\u001b[39;00m \u001b[39m.\u001b[39;00m\u001b[39mqm_evolution\u001b[39;00m \u001b[39mimport\u001b[39;00m photon_unitary, fock_evolution\n",
      "\u001b[0;31mModuleNotFoundError\u001b[0m: No module named 'qoptcraft.evolution.hamiltonian_evolution'"
     ]
    }
   ],
   "source": [
    "from qoptcraft.optical_elements import beam_splitter\n",
    "import numpy as np\n",
    "\n",
    "S = beam_splitter(np.pi/4, 0, 2, 0, 1)"
   ]
  },
  {
   "cell_type": "code",
   "execution_count": 15,
   "metadata": {},
   "outputs": [
    {
     "data": {
      "text/plain": [
       "array([[ 0.71+0.j, -0.71+0.j],\n",
       "       [ 0.71+0.j,  0.71+0.j]], dtype=complex64)"
      ]
     },
     "execution_count": 15,
     "metadata": {},
     "output_type": "execute_result"
    }
   ],
   "source": [
    "S"
   ]
  },
  {
   "cell_type": "code",
   "execution_count": 16,
   "metadata": {},
   "outputs": [
    {
     "data": {
      "text/plain": [
       "array([[ 0.5 +0.j,  0.71+0.j,  0.5 +0.j],\n",
       "       [-0.71+0.j,  0.  +0.j,  0.71+0.j],\n",
       "       [ 0.5 +0.j, -0.71+0.j,  0.5 +0.j]], dtype=complex64)"
      ]
     },
     "execution_count": 16,
     "metadata": {},
     "output_type": "execute_result"
    }
   ],
   "source": [
    "from qoptcraft.evolution import photon_unitary\n",
    "\n",
    "photon_unitary(S, 2)"
   ]
  },
  {
   "cell_type": "code",
   "execution_count": null,
   "metadata": {},
   "outputs": [],
   "source": []
  }
 ],
 "metadata": {
  "kernelspec": {
   "display_name": "quantum",
   "language": "python",
   "name": "python3"
  },
  "language_info": {
   "codemirror_mode": {
    "name": "ipython",
    "version": 3
   },
   "file_extension": ".py",
   "mimetype": "text/x-python",
   "name": "python",
   "nbconvert_exporter": "python",
   "pygments_lexer": "ipython3",
   "version": "3.11.3"
  },
  "orig_nbformat": 4
 },
 "nbformat": 4,
 "nbformat_minor": 2
}
