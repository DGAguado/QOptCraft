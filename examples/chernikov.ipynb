{
 "cells": [
  {
   "cell_type": "code",
   "execution_count": 15,
   "metadata": {},
   "outputs": [],
   "source": [
    "import numpy as np\n",
    "from numpy import pi as PI\n",
    "\n",
    "from qoptcraft.basis import get_photon_basis\n",
    "from qoptcraft.evolution import fock_evolution_permanent\n",
    "from qoptcraft.optical_elements import beam_splitter, phase_shifter\n",
    "from qoptcraft.invariant import can_transition, can_transition_basis, can_transition_full\n",
    "from qoptcraft.state import Fock, PureState "
   ]
  },
  {
   "attachments": {},
   "cell_type": "markdown",
   "metadata": {},
   "source": [
    "### Fig 8 Chernikov et al."
   ]
  },
  {
   "attachments": {},
   "cell_type": "markdown",
   "metadata": {},
   "source": [
    "<img src=\"images/fig8.png\" alt=\"drawing\" width=\"400\"/>"
   ]
  },
  {
   "cell_type": "code",
   "execution_count": 11,
   "metadata": {},
   "outputs": [],
   "source": [
    "modes = 6\n",
    "photons = 4\n",
    "\n",
    "B1 = beam_splitter(45.7 * PI / 180, 1.0 * PI / 180, modes, 0, 2, convention=\"chernikov\")\n",
    "B2 = beam_splitter(44.7 * PI / 180, -141.2 * PI / 180, modes, 4, 5, convention=\"chernikov\")\n",
    "B3 = beam_splitter(63.7 * PI / 180, 145.9 * PI / 180, modes, 2, 4, convention=\"chernikov\")\n",
    "B4 = beam_splitter(-65.5 * PI / 180, 1.1 * PI / 180, modes, 0, 2, convention=\"chernikov\")\n",
    "B5 = beam_splitter(-65.6 * PI / 180, -105.8 * PI / 180, modes, 4, 5, convention=\"chernikov\")\n",
    "B6 = beam_splitter(63.7 * PI / 180, -33.9 * PI / 180, modes, 2, 4, convention=\"chernikov\")\n",
    "\n",
    "P0 = phase_shifter(-59.7 * PI / 180, modes, 0)\n",
    "P1 = phase_shifter(65.3 * PI / 180, modes, 1)\n",
    "P2 = phase_shifter(58.4 * PI / 180, modes, 2)\n",
    "P3 = phase_shifter(-66.7 * PI / 180, modes, 3)\n",
    "P4 = phase_shifter(-21.0 * PI / 180, modes, 4)\n",
    "P5 = phase_shifter(5.4 * PI / 180, modes, 5)\n",
    "\n",
    "interferometer = P5 @ P4 @ P3 @ P2 @ P1 @ P0 @ B6 @ B5 @ B4 @ B3 @ B2 @ B1"
   ]
  },
  {
   "cell_type": "code",
   "execution_count": 12,
   "metadata": {},
   "outputs": [
    {
     "name": "stdout",
     "output_type": "stream",
     "text": [
      "Prob 00 = 0.07368130345167079\n",
      "Prob 01 = 0.07421701474874014\n",
      "Prob 10 = 0.07444283904547781\n",
      "Prob 11 = 0.07396377759550389\n"
     ]
    }
   ],
   "source": [
    "photon_basis = get_photon_basis(modes, photons)\n",
    "\n",
    "in_state = (1,0,1,0,1,1)\n",
    "output_state = fock_evolution_permanent(interferometer, in_state, method=\"glynn\")\n",
    "index = photon_basis.index(in_state)\n",
    "prob = np.abs(output_state[index])**2\n",
    "print(f\"Prob 00 = {prob}\")\n",
    "\n",
    "in_state = (1,0,0,1,1,1)\n",
    "output_state = fock_evolution_permanent(interferometer, in_state, method=\"glynn\")\n",
    "index = photon_basis.index(in_state)\n",
    "prob = np.abs(output_state[index])**2\n",
    "print(f\"Prob 01 = {prob}\")\n",
    "\n",
    "in_state = (0,1,1,0,1,1)\n",
    "output_state = fock_evolution_permanent(interferometer, in_state, method=\"glynn\")\n",
    "index = photon_basis.index(in_state)\n",
    "prob = np.abs(output_state[index])**2\n",
    "print(f\"Prob 10 = {prob}\")\n",
    "\n",
    "in_state = (0,1,0,1,1,1)\n",
    "output_state = fock_evolution_permanent(interferometer, in_state, method=\"glynn\")\n",
    "index = photon_basis.index(in_state)\n",
    "prob = np.abs(output_state[index])**2\n",
    "print(f\"Prob 11 = {prob}\")"
   ]
  },
  {
   "cell_type": "code",
   "execution_count": 16,
   "metadata": {},
   "outputs": [
    {
     "name": "stdout",
     "output_type": "stream",
     "text": [
      "In full invariant = 0.019047619047619035 \t Out full invariant = 0.01333668839225538\n"
     ]
    },
    {
     "data": {
      "text/plain": [
       "False"
      ]
     },
     "execution_count": 16,
     "metadata": {},
     "output_type": "execute_result"
    }
   ],
   "source": [
    "can_transition_full(Fock(0,1,0,1,1,1), PureState(photon_basis, output_state))"
   ]
  },
  {
   "cell_type": "code",
   "execution_count": 13,
   "metadata": {},
   "outputs": [
    {
     "name": "stdout",
     "output_type": "stream",
     "text": [
      "Basis saved in /Users/milvus/Documents/Code projects/QOptCraft/examples/save_basis/m=6 n=4\n",
      "The values of the invariants are:\n",
      "tangent_in = 0.0190476 \t\t tangent_out = 0.0190476\n",
      "orthogonal_in = 0.9809524 \t\t orthogonal_out = 0.9809524\n"
     ]
    },
    {
     "data": {
      "text/plain": [
       "True"
      ]
     },
     "execution_count": 13,
     "metadata": {},
     "output_type": "execute_result"
    }
   ],
   "source": [
    "can_transition_basis(Fock(0,1,0,1,1,1), PureState(photon_basis, output_state))"
   ]
  },
  {
   "attachments": {},
   "cell_type": "markdown",
   "metadata": {},
   "source": [
    "Comprobamos que el resto de probabilidades del ancilla son 0"
   ]
  },
  {
   "cell_type": "code",
   "execution_count": 9,
   "metadata": {},
   "outputs": [
    {
     "name": "stdout",
     "output_type": "stream",
     "text": [
      "Prob 11 = 0.07396377759550389\n"
     ]
    }
   ],
   "source": [
    "idx_ancilla_11 = [photon_basis.index(fock) for fock in photon_basis if fock[-1]==1 and fock[-2]==1]\n",
    "prob = 0\n",
    "for index in idx_ancilla_11:\n",
    "    prob += np.abs(output_state[index])**2\n",
    "print(f\"Prob 11 = {prob}\")"
   ]
  },
  {
   "attachments": {},
   "cell_type": "markdown",
   "metadata": {},
   "source": [
    "### Fig 9 Chernikov et al."
   ]
  },
  {
   "attachments": {},
   "cell_type": "markdown",
   "metadata": {},
   "source": [
    "<img src=\"images/fig9.png\" alt=\"drawing\" width=\"400\"/>"
   ]
  },
  {
   "cell_type": "code",
   "execution_count": 14,
   "metadata": {},
   "outputs": [],
   "source": [
    "modes = 6\n",
    "photons = 4\n",
    "\n",
    "P0 = phase_shifter(54.7 * PI / 180, modes, 0)\n",
    "P4 = phase_shifter(-54.7 * PI / 180, modes, 4)\n",
    "\n",
    "B1 = beam_splitter(45 * PI / 180, 0, modes, 2, 3, convention=\"chernikov\")\n",
    "B2 = beam_splitter(54.7 * PI / 180, 0, modes, 1, 2, convention=\"chernikov\")\n",
    "B3 = beam_splitter(54.7 * PI / 180, 0, modes, 3, 5, convention=\"chernikov\")\n",
    "B4 = beam_splitter(45 * PI / 180, -35.3 * PI / 180, modes, 2, 3, convention=\"chernikov\")\n",
    "\n",
    "interferometer = B4 @ B3 @ B2 @ B1 @ P4 @ P0"
   ]
  },
  {
   "cell_type": "code",
   "execution_count": 15,
   "metadata": {},
   "outputs": [
    {
     "name": "stdout",
     "output_type": "stream",
     "text": [
      "Prob 00 = 0.07426942131769358\n",
      "Prob 01 = 0.07400894374936574\n",
      "Prob 10 = 0.07400894445446529\n",
      "Prob 11 = 0.07400847496777924\n"
     ]
    }
   ],
   "source": [
    "photon_basis = get_photon_basis(modes, photons)\n",
    "\n",
    "in_state = (1,0,1,1,1,0)\n",
    "output_state = fock_evolution_permanent(interferometer, in_state, method=\"glynn\")\n",
    "index = photon_basis.index(in_state)\n",
    "prob = np.abs(output_state[index])**2\n",
    "print(f\"Prob 00 = {prob}\")\n",
    "\n",
    "in_state = (1,0,1,1,0,1)\n",
    "output_state = fock_evolution_permanent(interferometer, in_state, method=\"glynn\")\n",
    "index = photon_basis.index(in_state)\n",
    "prob = np.abs(output_state[index])**2\n",
    "print(f\"Prob 01 = {prob}\")\n",
    "\n",
    "in_state = (0,1,1,1,1,0)\n",
    "output_state = fock_evolution_permanent(interferometer, in_state, method=\"glynn\")\n",
    "index = photon_basis.index(in_state)\n",
    "prob = np.abs(output_state[index])**2\n",
    "print(f\"Prob 10 = {prob}\")\n",
    "\n",
    "in_state = (0,1,1,1,0,1)\n",
    "output_state = fock_evolution_permanent(interferometer, in_state, method=\"glynn\")\n",
    "index = photon_basis.index(in_state)\n",
    "prob = np.abs(output_state[index])**2\n",
    "print(f\"Prob 11 = {prob}\")"
   ]
  }
 ],
 "metadata": {
  "kernelspec": {
   "display_name": "quantum",
   "language": "python",
   "name": "python3"
  },
  "language_info": {
   "codemirror_mode": {
    "name": "ipython",
    "version": 3
   },
   "file_extension": ".py",
   "mimetype": "text/x-python",
   "name": "python",
   "nbconvert_exporter": "python",
   "pygments_lexer": "ipython3",
   "version": "3.11.3"
  },
  "orig_nbformat": 4
 },
 "nbformat": 4,
 "nbformat_minor": 2
}
