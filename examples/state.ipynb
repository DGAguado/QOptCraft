{
 "cells": [
  {
   "cell_type": "code",
   "execution_count": 1,
   "metadata": {},
   "outputs": [],
   "source": [
    "import qoptcraft"
   ]
  },
  {
   "cell_type": "code",
   "execution_count": 2,
   "metadata": {},
   "outputs": [],
   "source": [
    "from math import sqrt\n",
    "from qoptcraft.state import PureState, Fock"
   ]
  },
  {
   "cell_type": "code",
   "execution_count": 3,
   "metadata": {},
   "outputs": [],
   "source": [
    "state = Fock(1,0) + Fock(0,1)"
   ]
  },
  {
   "cell_type": "code",
   "execution_count": 4,
   "metadata": {},
   "outputs": [
    {
     "data": {
      "text/plain": [
       "0.58 * (1, 1) + \n",
       "0.82 * (2, 0)"
      ]
     },
     "execution_count": 4,
     "metadata": {},
     "output_type": "execute_result"
    }
   ],
   "source": [
    "state.creation(0)"
   ]
  },
  {
   "cell_type": "code",
   "execution_count": 5,
   "metadata": {},
   "outputs": [
    {
     "data": {
      "text/plain": [
       "0.58 * (1, 1) + \n",
       "0.82 * (2, 0)"
      ]
     },
     "execution_count": 5,
     "metadata": {},
     "output_type": "execute_result"
    }
   ],
   "source": [
    "sqrt(2) * Fock(2,0) + Fock(1,1)"
   ]
  },
  {
   "cell_type": "code",
   "execution_count": 6,
   "metadata": {},
   "outputs": [
    {
     "data": {
      "text/plain": [
       "array([1.        , 1.41421356])"
      ]
     },
     "execution_count": 6,
     "metadata": {},
     "output_type": "execute_result"
    }
   ],
   "source": [
    "state.creation(0).coefs"
   ]
  },
  {
   "cell_type": "code",
   "execution_count": 7,
   "metadata": {},
   "outputs": [
    {
     "data": {
      "text/plain": [
       "3"
      ]
     },
     "execution_count": 7,
     "metadata": {},
     "output_type": "execute_result"
    }
   ],
   "source": [
    "sum(Fock(0,2,1))"
   ]
  },
  {
   "cell_type": "code",
   "execution_count": 8,
   "metadata": {},
   "outputs": [
    {
     "ename": "TypeError",
     "evalue": "object of type 'int' has no len()",
     "output_type": "error",
     "traceback": [
      "\u001b[0;31m---------------------------------------------------------------------------\u001b[0m",
      "\u001b[0;31mTypeError\u001b[0m                                 Traceback (most recent call last)",
      "Cell \u001b[0;32mIn[8], line 1\u001b[0m\n\u001b[0;32m----> 1\u001b[0m \u001b[39mlen\u001b[39;49m(Fock(\u001b[39m2\u001b[39;49m,\u001b[39m1\u001b[39;49m))\n",
      "File \u001b[0;32m~/Documents/Code projects/QOptCraft/qoptcraft/state/state.py:370\u001b[0m, in \u001b[0;36mFock.__len__\u001b[0;34m(self)\u001b[0m\n\u001b[1;32m    368\u001b[0m \u001b[39mdef\u001b[39;00m \u001b[39m__len__\u001b[39m(\u001b[39mself\u001b[39m):\n\u001b[1;32m    369\u001b[0m \u001b[39m    \u001b[39m\u001b[39m\"\"\"Number of modes in the fock state.\"\"\"\u001b[39;00m\n\u001b[0;32m--> 370\u001b[0m     \u001b[39mreturn\u001b[39;00m \u001b[39mlen\u001b[39;49m(\u001b[39mself\u001b[39;49m\u001b[39m.\u001b[39;49mmodes)\n",
      "\u001b[0;31mTypeError\u001b[0m: object of type 'int' has no len()"
     ]
    }
   ],
   "source": [
    "len(Fock(2,1))"
   ]
  },
  {
   "cell_type": "code",
   "execution_count": 1,
   "metadata": {},
   "outputs": [
    {
     "name": "stdout",
     "output_type": "stream",
     "text": [
      "Error in the approximation = 2.986921821601674\n",
      "Error in the approximation = 2.592960862005416\n",
      "Error in the approximation = 2.5465594209956537\n",
      "Error in the approximation = 2.9869218308344854\n",
      "Error in the approximation = 2.5929608790280603\n",
      "Error in the approximation = 2.4897772921964645\n",
      "Error in the approximation = 2.5929609032738785\n",
      "Error in the approximation = 2.6993036382735265\n",
      "Error in the approximation = 2.6319912876106812\n",
      "Error in the approximation = 2.4088594565289636\n",
      "Error in the approximation = 2.6319912804336285\n",
      "Error in the approximation = 2.986921732111051\n",
      "Error in the approximation = 1.8726832205517596\n",
      "Error in the approximation = 2.5288708233304864\n",
      "Error in the approximation = 2.546559498137493\n",
      "Error in the approximation = 2.5465594978447013\n",
      "Error in the approximation = 2.63199129265838\n",
      "Error in the approximation = 2.546559496906858\n",
      "Error in the approximation = 2.5288708022492425\n",
      "Error in the approximation = 2.546559490872477\n",
      "Error in the approximation = 2.9869218285338057\n",
      "Error in the approximation = 2.5288708220908647\n",
      "Error in the approximation = 2.408859521805488\n",
      "Error in the approximation = 2.631991284762857\n",
      "Error in the approximation = 2.592960862698199\n",
      "Error in the approximation = 3.0340017323449127\n",
      "Error in the approximation = 2.4088595170744314\n",
      "Error in the approximation = 2.5465595002979304\n",
      "Error in the approximation = 2.5465594952410244\n",
      "Error in the approximation = 2.528870820481289\n",
      "Error in the approximation = 2.631991292345034\n",
      "Error in the approximation = 2.408859459759083\n",
      "Error in the approximation = 2.6319913638424164\n",
      "Error in the approximation = 2.5465594984738997\n",
      "Error in the approximation = 2.592960868698095\n",
      "Error in the approximation = 2.408859498755929\n",
      "Error in the approximation = 2.528870823076408\n",
      "Error in the approximation = 2.631991271495305\n",
      "Error in the approximation = 2.4897772697707947\n",
      "Error in the approximation = 2.528870830265366\n",
      "Error in the approximation = 2.4088595166154745\n",
      "Error in the approximation = 2.546559434081457\n",
      "Error in the approximation = 1.8726832137021645\n",
      "Error in the approximation = 2.5465595074566543\n",
      "Error in the approximation = 2.6319912793772304\n",
      "Error in the approximation = 2.6993036330865463\n",
      "Error in the approximation = 2.631991276810491\n",
      "Error in the approximation = 1.872683201664506\n",
      "Error in the approximation = 2.6993036383912026\n",
      "Error in the approximation = 2.631991283974527\n",
      "Error in the approximation = 1.87268320345614\n",
      "Error in the approximation = 2.5465595017016276\n",
      "Error in the approximation = 1.8726832126636002\n",
      "Error in the approximation = 2.4088595124665844\n",
      "Error in the approximation = 2.5929608948824585\n",
      "Error in the approximation = 2.5465595024424297\n",
      "Error in the approximation = 2.5465595016441247\n",
      "Error in the approximation = 2.5465594209144147\n",
      "Error in the approximation = 2.546559502904731\n",
      "Error in the approximation = 2.5465594962007922\n",
      "Error in the approximation = 2.528870822031406\n",
      "Error in the approximation = 2.5929608549512726\n",
      "Error in the approximation = 2.5465594969986234\n",
      "Error in the approximation = 1.8726832371751136\n",
      "Error in the approximation = 2.6993036389867875\n",
      "Error in the approximation = 2.546559509343662\n",
      "Error in the approximation = 2.546559422822774\n",
      "Error in the approximation = 2.9869218347350013\n",
      "Error in the approximation = 1.8726832181050237\n",
      "Error in the approximation = 2.546559422202863\n",
      "Error in the approximation = 2.631991280174567\n",
      "Error in the approximation = 2.592960900047226\n",
      "Error in the approximation = 2.54655941629892\n",
      "Error in the approximation = 2.4088594648661785\n",
      "Error in the approximation = 2.4088594995380173\n",
      "Error in the approximation = 2.528870824627529\n",
      "Error in the approximation = 2.5465595024140777\n",
      "Error in the approximation = 2.5465594225232886\n",
      "Error in the approximation = 2.6319913749336052\n",
      "Error in the approximation = 2.592960894917542\n",
      "Error in the approximation = 2.489777266484115\n",
      "Error in the approximation = 2.546559490498565\n",
      "Error in the approximation = 2.546559494529383\n",
      "Error in the approximation = 2.699303632695613\n",
      "Error in the approximation = 3.0340015844556905\n",
      "Error in the approximation = 2.489777263498892\n",
      "Error in the approximation = 2.5929608697183273\n",
      "Error in the approximation = 2.986921740509907\n",
      "Error in the approximation = 1.8726832072573518\n",
      "Error in the approximation = 2.5288708270496243\n",
      "Error in the approximation = 2.546559501327046\n",
      "Error in the approximation = 3.034001730259628\n",
      "Error in the approximation = 2.4897772925463517\n",
      "Error in the approximation = 2.6993036333068257\n",
      "Error in the approximation = 1.8726832178001116\n",
      "Error in the approximation = 2.54655942339246\n",
      "Error in the approximation = 2.6319912869741353\n",
      "Error in the approximation = 2.6319912766435194\n",
      "Error in the approximation = 2.5465594244049745\n",
      "Error in the approximation = 1.8726832353209495\n",
      "Error in the approximation = 2.489777294057274\n",
      "Error in the approximation = 2.4088594579061553\n",
      "Error in the approximation = 2.4088595212493273\n",
      "Error in the approximation = 2.5929608977244576\n",
      "Error in the approximation = 2.4897772586952933\n",
      "Error in the approximation = 2.40885951286516\n",
      "Error in the approximation = 2.4088595244201825\n",
      "Error in the approximation = 2.489777287172293\n",
      "Error in the approximation = 2.5929608577161356\n",
      "Error in the approximation = 2.631991280773906\n",
      "Error in the approximation = 1.8726832093654433\n",
      "Error in the approximation = 2.6319912844086555\n",
      "Error in the approximation = 2.489777268616545\n",
      "Error in the approximation = 2.4088594725153887\n",
      "Error in the approximation = 2.699303639004916\n",
      "Error in the approximation = 2.9869217394796745\n",
      "Error in the approximation = 2.4088594689317726\n",
      "Error in the approximation = 2.4088594712840363\n",
      "Error in the approximation = 2.546559494772776\n",
      "Error in the approximation = 2.408859514934445\n",
      "Error in the approximation = 3.034001739742741\n",
      "Error in the approximation = 2.546559421529497\n",
      "Error in the approximation = 2.6319912757498356\n",
      "Error in the approximation = 2.546559501619776\n",
      "Error in the approximation = 2.5288708203228123\n",
      "Error in the approximation = 2.489777271264707\n",
      "Error in the approximation = 1.8726832053663844\n",
      "Error in the approximation = 2.6993036346653385\n",
      "Error in the approximation = 2.546559507691417\n",
      "Error in the approximation = 2.489777260124813\n",
      "Error in the approximation = 2.592960859488464\n",
      "Error in the approximation = 2.5288708223923293\n",
      "Error in the approximation = 2.592960858201666\n",
      "Error in the approximation = 2.5465594277199677\n",
      "Error in the approximation = 2.546559490562791\n",
      "Error in the approximation = 2.5465594984189193\n",
      "Error in the approximation = 1.8726832245220144\n",
      "Error in the approximation = 2.5929609020969675\n",
      "Error in the approximation = 2.5288708160424194\n",
      "Error in the approximation = 2.6993036379648165\n",
      "Error in the approximation = 3.034001715847015\n",
      "Error in the approximation = 2.5465595179412333\n",
      "Error in the approximation = 2.489777300612542\n",
      "Error in the approximation = 2.4088595099221757\n",
      "Error in the approximation = 2.6993036426919508\n",
      "Error in the approximation = 2.5465594930604847\n",
      "Error in the approximation = 2.6993036268826756\n",
      "Error in the approximation = 2.4088595050712804\n",
      "Error in the approximation = 2.6319912848313045\n",
      "Error in the approximation = 2.986921830194427\n",
      "Error in the approximation = 2.546559503754099\n",
      "Error in the approximation = 2.4088594616430083\n",
      "Error in the approximation = 2.5465594187200167\n",
      "Error in the approximation = 2.6993036397936465\n",
      "Error in the approximation = 2.4088595086069997\n",
      "Error in the approximation = 2.6319912909505465\n",
      "Error in the approximation = 2.6993036330206968\n",
      "Error in the approximation = 3.0340017537362978\n",
      "Error in the approximation = 2.546559498053084\n",
      "Error in the approximation = 2.408859515776578\n",
      "Error in the approximation = 2.5465594171012724\n",
      "Error in the approximation = 2.546559496803578\n",
      "Error in the approximation = 2.6319913490737243\n",
      "Error in the approximation = 1.8726832239515345\n",
      "Error in the approximation = 2.4088594597920667\n",
      "Error in the approximation = 1.8726832203381782\n",
      "Error in the approximation = 2.408859526379918\n",
      "Error in the approximation = 1.8726832203256156\n",
      "Error in the approximation = 1.872683211067195\n",
      "Error in the approximation = 2.986921837432276\n",
      "Error in the approximation = 1.8726832105811626\n",
      "Error in the approximation = 2.6319912834909784\n",
      "Error in the approximation = 2.52887081514715\n",
      "Error in the approximation = 2.408859469399685\n",
      "Error in the approximation = 2.4088594675400925\n",
      "Error in the approximation = 2.699303639073041\n",
      "Error in the approximation = 2.489777262190102\n",
      "Error in the approximation = 2.408859465153702\n",
      "Error in the approximation = 1.872683202262651\n",
      "Error in the approximation = 2.546559441226084\n",
      "Error in the approximation = 2.5465594926541875\n",
      "Error in the approximation = 2.631991274939822\n",
      "Error in the approximation = 2.408859508467226\n",
      "Error in the approximation = 1.872683209868027\n",
      "Error in the approximation = 2.4088595153562298\n",
      "Error in the approximation = 1.8726832071672517\n",
      "Error in the approximation = 2.6319912770752807\n",
      "Error in the approximation = 2.4088595085017888\n",
      "Error in the approximation = 2.6319912857904133\n",
      "Error in the approximation = 2.9869218293583955\n",
      "Error in the approximation = 2.9869218313733565\n",
      "Error in the approximation = 1.8726832104428432\n",
      "Error in the approximation = 2.631991277414967\n",
      "Error in the approximation = 2.546559424362834\n",
      "Error in the approximation = 2.408859466330427\n",
      "Error in the approximation = 2.6319913535422006\n",
      "Error in the approximation = 2.546559411490557\n",
      "Error in the approximation = 2.986921828353383\n",
      "Error in the approximation = 2.408859513172301\n",
      "Error in the approximation = 2.5465594954173323\n"
     ]
    }
   ],
   "source": [
    "from qoptcraft.operators import qft\n",
    "from qoptcraft.topogonov import toponogov\n",
    "\n",
    "unitary = qft(6)\n",
    "\n",
    "error = 10\n",
    "\n",
    "for seed in range(200):\n",
    "    _, error_ = toponogov(unitary, 3, 2, seed)\n",
    "    if error_ < error:\n",
    "        error = error_\n",
    "        min_seed = seed"
   ]
  },
  {
   "cell_type": "code",
   "execution_count": null,
   "metadata": {},
   "outputs": [],
   "source": []
  }
 ],
 "metadata": {
  "kernelspec": {
   "display_name": "quantum",
   "language": "python",
   "name": "python3"
  },
  "language_info": {
   "codemirror_mode": {
    "name": "ipython",
    "version": 3
   },
   "file_extension": ".py",
   "mimetype": "text/x-python",
   "name": "python",
   "nbconvert_exporter": "python",
   "pygments_lexer": "ipython3",
   "version": "3.11.3"
  },
  "orig_nbformat": 4
 },
 "nbformat": 4,
 "nbformat_minor": 2
}
