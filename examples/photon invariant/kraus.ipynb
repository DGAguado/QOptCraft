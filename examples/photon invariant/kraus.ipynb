{
 "cells": [
  {
   "cell_type": "code",
   "execution_count": 1,
   "metadata": {},
   "outputs": [],
   "source": [
    "import numpy as np\n",
    "from numpy.typing import NDArray\n",
    "\n",
    "from QOptCraft.state import MixedState, PureState\n",
    "from QOptCraft.basis import get_photon_basis\n",
    "from QOptCraft.orthogonal import can_transition, can_transition_no_basis, photon_invariant"
   ]
  },
  {
   "attachments": {},
   "cell_type": "markdown",
   "metadata": {},
   "source": [
    "## Quantum channel"
   ]
  },
  {
   "attachments": {},
   "cell_type": "markdown",
   "metadata": {},
   "source": [
    "## Bit flip"
   ]
  },
  {
   "cell_type": "code",
   "execution_count": null,
   "metadata": {},
   "outputs": [],
   "source": [
    "def channel(*kraus: NDArray, state: NDArray):\n",
    "    result = np.zeros_like(state, dtype=\"complex128\")\n",
    "    for op in kraus:\n",
    "        result += op @ state @ op.T.conj()\n",
    "    return result"
   ]
  },
  {
   "cell_type": "code",
   "execution_count": 8,
   "metadata": {},
   "outputs": [],
   "source": [
    "p = 0.7\n",
    "E0 = np.sqrt(p) * np.eye(2)\n",
    "E1 = np.sqrt(1 - p) * np.array([[0, 1], [1, 0]])\n",
    "\n",
    "state = np.array([[0.5, 0.5], [0.5, 0.5]])\n",
    "channeled_state = channel(E0, E1, state=state)"
   ]
  },
  {
   "cell_type": "code",
   "execution_count": 9,
   "metadata": {},
   "outputs": [
    {
     "name": "stdout",
     "output_type": "stream",
     "text": [
      "1.0\n",
      "1.0\n",
      "In tangent energy = 1.0000000 \t\t Out tangent energy = 0.5800000\n",
      "In orthogonal energy = 0.0000000 \t\t Out orthogonal energy = 0.0000000\n",
      "Can transition? --> False\n"
     ]
    }
   ],
   "source": [
    "state = MixedState(\n",
    "    density_matrix = state,\n",
    "    modes=2,\n",
    "    photons=1,\n",
    "    basis=[[1,0],[0,1]]\n",
    "    )\n",
    "\n",
    "channeled_state = MixedState(\n",
    "    density_matrix = channeled_state,\n",
    "    modes=2,\n",
    "    photons=1,\n",
    "    basis=[[1,0],[0,1]]\n",
    "    )\n",
    "\n",
    "print(f\"Can transition? --> {can_transition(state, channeled_state)}\")"
   ]
  },
  {
   "cell_type": "code",
   "execution_count": 6,
   "metadata": {},
   "outputs": [],
   "source": [
    "matrix = channeled_state.density_matrix\n",
    "\n",
    "state = MixedState(\n",
    "    density_matrix = matrix,\n",
    "    modes=2,\n",
    "    photons=1,\n",
    "    basis=[[1,0],[0,1]]\n",
    "    )\n",
    "\n",
    "channeled_state = MixedState(\n",
    "    density_matrix = channel(E0, E1, state=matrix),\n",
    "    modes=2,\n",
    "    photons=1,\n",
    "    basis=[[1,0],[0,1]]\n",
    "    )\n",
    "\n",
    "print(f\"Can transition? --> {can_transition(state, channeled_state)}\")"
   ]
  },
  {
   "cell_type": "code",
   "execution_count": 7,
   "metadata": {},
   "outputs": [
    {
     "name": "stdout",
     "output_type": "stream",
     "text": [
      "0.5800000000000002\n",
      "0.5800000000000002\n",
      "In tangent energy = 0.5800000 \t\t Out tangent energy = 0.5128000\n",
      "In orthogonal energy = 0.0000000 \t\t Out orthogonal energy = 0.0000000\n",
      "Can transition? --> False\n"
     ]
    }
   ],
   "source": []
  },
  {
   "attachments": {},
   "cell_type": "markdown",
   "metadata": {},
   "source": [
    "## Phase flip"
   ]
  },
  {
   "cell_type": "code",
   "execution_count": null,
   "metadata": {},
   "outputs": [],
   "source": [
    "p = 0.7\n",
    "E0 = np.sqrt(p) * np.eye(2)\n",
    "E2 = np.sqrt(1 - p) * np.array([[1, 0], [0, -1]])\n",
    "\n",
    "state = np.array([[0.5, 0.5], [0.5, 0.5]])\n",
    "channeled_state = channel(E0, E2, state=state)"
   ]
  },
  {
   "cell_type": "code",
   "execution_count": null,
   "metadata": {},
   "outputs": [
    {
     "name": "stdout",
     "output_type": "stream",
     "text": [
      "1.0\n",
      "1.0\n",
      "In tangent energy = 1.0000000 \t\t Out tangent energy = 0.5800000\n",
      "In orthogonal energy = 0.0000000 \t\t Out orthogonal energy = 0.0000000\n",
      "Can transition? --> False\n"
     ]
    }
   ],
   "source": [
    "state = MixedState(\n",
    "    density_matrix = state,\n",
    "    modes=2,\n",
    "    photons=1,\n",
    "    basis=[[1,0],[0,1]]\n",
    "    )\n",
    "\n",
    "channeled_state = MixedState(\n",
    "    density_matrix = channeled_state,\n",
    "    modes=2,\n",
    "    photons=1,\n",
    "    basis=[[1,0],[0,1]]\n",
    "    )\n",
    "\n",
    "print(f\"Can transition? --> {can_transition(state, channeled_state)}\")"
   ]
  },
  {
   "cell_type": "code",
   "execution_count": null,
   "metadata": {},
   "outputs": [],
   "source": [
    "matrix = channeled_state.density_matrix\n",
    "\n",
    "state = MixedState(\n",
    "    density_matrix = matrix,\n",
    "    modes=2,\n",
    "    photons=1,\n",
    "    basis=[[1,0],[0,1]]\n",
    "    )\n",
    "\n",
    "channeled_state = MixedState(\n",
    "    density_matrix = channel(E0, E2, state=matrix),\n",
    "    modes=2,\n",
    "    photons=1,\n",
    "    basis=[[1,0],[0,1]]\n",
    "    )\n",
    "print(f\"Can transition? --> {can_transition(state, channeled_state)}\")"
   ]
  },
  {
   "attachments": {},
   "cell_type": "markdown",
   "metadata": {},
   "source": [
    "## Depolarizing"
   ]
  },
  {
   "cell_type": "code",
   "execution_count": 2,
   "metadata": {},
   "outputs": [],
   "source": [
    "def channel(prob: float, density_matrix: NDArray):\n",
    "    dim = density_matrix.shape[0]\n",
    "    return prob * np.eye(dim) / dim + (1 - prob) * density_matrix"
   ]
  },
  {
   "cell_type": "code",
   "execution_count": 14,
   "metadata": {},
   "outputs": [],
   "source": [
    "import scipy as sp\n",
    "\n",
    "modes = 4\n",
    "photons = 6\n",
    "dim = int(sp.special.comb(modes + photons - 1, photons))\n",
    "\n",
    "density_state = 1 / dim * np.ones((dim, dim))\n",
    "density_channeled_state = channel(prob=0.4, density_matrix=density_state)"
   ]
  },
  {
   "cell_type": "code",
   "execution_count": 18,
   "metadata": {},
   "outputs": [],
   "source": [
    "density_state = density_channeled_state\n",
    "density_channeled_state = channel(prob=0.4, density_matrix=density_state)"
   ]
  },
  {
   "cell_type": "code",
   "execution_count": 19,
   "metadata": {},
   "outputs": [
    {
     "name": "stdout",
     "output_type": "stream",
     "text": [
      "In tangent energy = 0.0230938 \t\t Out tangent energy = 0.0159328\n",
      "In orthogonal energy = 0.1168681 \t\t Out orthogonal energy = 0.0420725\n",
      "Can transition? --> False\n"
     ]
    }
   ],
   "source": [
    "state = MixedState(\n",
    "    density_matrix = density_state,\n",
    "    modes=modes,\n",
    "    photons=photons,\n",
    "    )\n",
    "\n",
    "channeled_state = MixedState(\n",
    "    density_matrix = density_channeled_state,\n",
    "    modes=modes,\n",
    "    photons=photons,\n",
    "    )\n",
    "\n",
    "print(f\"Can transition? --> {can_transition(state, channeled_state)}\")"
   ]
  },
  {
   "attachments": {},
   "cell_type": "markdown",
   "metadata": {},
   "source": [
    "## Depolarizing"
   ]
  },
  {
   "cell_type": "code",
   "execution_count": 2,
   "metadata": {},
   "outputs": [],
   "source": [
    "def channel(prob: float, density_matrix: NDArray):\n",
    "    dim = density_matrix.shape[0]\n",
    "    return prob * np.eye(dim) / dim + (1 - prob) * density_matrix"
   ]
  },
  {
   "cell_type": "code",
   "execution_count": 3,
   "metadata": {},
   "outputs": [],
   "source": [
    "import scipy as sp\n",
    "\n",
    "modes = 4\n",
    "photons = 6\n",
    "dim = int(sp.special.comb(modes + photons - 1, photons))\n",
    "\n",
    "density_state = 1 / dim * np.ones((dim, dim))\n",
    "density_channeled_state = channel(prob=0.4, density_matrix=density_state)"
   ]
  },
  {
   "cell_type": "code",
   "execution_count": 13,
   "metadata": {},
   "outputs": [
    {
     "data": {
      "text/plain": [
       "0.36761904761904785"
      ]
     },
     "execution_count": 13,
     "metadata": {},
     "output_type": "execute_result"
    }
   ],
   "source": [
    "np.trace(density_channeled_state @ density_channeled_state)"
   ]
  },
  {
   "cell_type": "code",
   "execution_count": 12,
   "metadata": {},
   "outputs": [
    {
     "data": {
      "text/plain": [
       "0.3676190476190476"
      ]
     },
     "execution_count": 12,
     "metadata": {},
     "output_type": "execute_result"
    }
   ],
   "source": [
    "0.4 * (2 - 0.4) / dim + (1 - 0.4) ** 2"
   ]
  },
  {
   "cell_type": "code",
   "execution_count": null,
   "metadata": {},
   "outputs": [],
   "source": [
    "density_state = density_channeled_state\n",
    "density_channeled_state = channel(prob=0.4, density_matrix=density_state)"
   ]
  },
  {
   "cell_type": "code",
   "execution_count": null,
   "metadata": {},
   "outputs": [
    {
     "name": "stdout",
     "output_type": "stream",
     "text": [
      "In tangent energy = 0.0230938 \t\t Out tangent energy = 0.0159328\n",
      "In orthogonal energy = 0.1168681 \t\t Out orthogonal energy = 0.0420725\n",
      "Can transition? --> False\n"
     ]
    }
   ],
   "source": [
    "state = MixedState(\n",
    "    density_matrix = density_state,\n",
    "    modes=modes,\n",
    "    photons=photons,\n",
    "    )\n",
    "\n",
    "channeled_state = MixedState(\n",
    "    density_matrix = density_channeled_state,\n",
    "    modes=modes,\n",
    "    photons=photons,\n",
    "    )\n",
    "\n",
    "print(f\"Can transition? --> {can_transition(state, channeled_state)}\")"
   ]
  }
 ],
 "metadata": {
  "kernelspec": {
   "display_name": "quantum",
   "language": "python",
   "name": "python3"
  },
  "language_info": {
   "codemirror_mode": {
    "name": "ipython",
    "version": 3
   },
   "file_extension": ".py",
   "mimetype": "text/x-python",
   "name": "python",
   "nbconvert_exporter": "python",
   "pygments_lexer": "ipython3",
   "version": "3.11.3"
  },
  "orig_nbformat": 4
 },
 "nbformat": 4,
 "nbformat_minor": 2
}
