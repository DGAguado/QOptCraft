{
 "cells": [
  {
   "cell_type": "code",
   "execution_count": null,
   "metadata": {},
   "outputs": [],
   "source": [
    "from math import sqrt\n",
    "import numpy as np\n",
    "from numpy.typing import NDArray\n",
    "from scipy.optimize import minimize, LinearConstraint, NonlinearConstraint\n",
    "\n",
    "from QOptCraft.basis import get_photon_basis\n",
    "from QOptCraft.state import PureState, MixedState, Fock\n",
    "from QOptCraft.invariant import (\n",
    "    can_transition,\n",
    "    can_transition_basis,\n",
    "    photon_invariant,\n",
    "    photon_invariant_basis,\n",
    ")"
   ]
  },
  {
   "cell_type": "code",
   "execution_count": null,
   "metadata": {},
   "outputs": [
    {
     "name": "stdout",
     "output_type": "stream",
     "text": [
      "0.71 * (0, 1, 0, 1) + \n",
      "0.71 * (1, 0, 1, 0)\n"
     ]
    }
   ],
   "source": [
    "state = 1/2 * Fock(1,0,1,0) + Fock(0,1,0,1) * 1 / 2\n",
    "print(state)"
   ]
  },
  {
   "cell_type": "code",
   "execution_count": null,
   "metadata": {},
   "outputs": [
    {
     "data": {
      "text/plain": [
       "array([2, 2])"
      ]
     },
     "metadata": {},
     "output_type": "display_data"
    }
   ],
   "source": [
    "state.coefs"
   ]
  },
  {
   "cell_type": "code",
   "execution_count": null,
   "metadata": {},
   "outputs": [
    {
     "data": {
      "text/plain": [
       "array([2])"
      ]
     },
     "metadata": {},
     "output_type": "display_data"
    }
   ],
   "source": [
    "state = Fock(0,1,0,1) *  2\n",
    "state.coefs"
   ]
  }
 ],
 "metadata": {
  "language_info": {
   "name": "python"
  },
  "orig_nbformat": 4
 },
 "nbformat": 4,
 "nbformat_minor": 2
}
