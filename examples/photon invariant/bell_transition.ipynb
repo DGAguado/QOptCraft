{
 "cells": [
  {
   "attachments": {},
   "cell_type": "markdown",
   "metadata": {},
   "source": [
    "## Test transition bell"
   ]
  },
  {
   "cell_type": "code",
   "execution_count": 1,
   "metadata": {},
   "outputs": [],
   "source": [
    "# IF LIBRARY IS NOT INSTALLED RUN\n",
    "\n",
    "# from sys import path\n",
    "# from os.path import join, abspath\n",
    "\n",
    "# module_path = abspath(join(\"..\"))\n",
    "# if module_path not in path:\n",
    "#     path.append(module_path)"
   ]
  },
  {
   "cell_type": "code",
   "execution_count": 2,
   "metadata": {},
   "outputs": [],
   "source": [
    "import numpy as np\n",
    "\n",
    "from QOptCraft.state import PureState, MixedState\n",
    "from QOptCraft.orthogonal import can_transition, can_transition_no_basis"
   ]
  },
  {
   "cell_type": "code",
   "execution_count": 3,
   "metadata": {},
   "outputs": [
    {
     "name": "stdout",
     "output_type": "stream",
     "text": [
      "In invariant = -1 \t\t Out invariant = -1.5\n",
      "In energy = 0.23809523809523814 \t\t Out out = 0.09523809523809529\n",
      " i = 0 --> False\n",
      " bell formula in = -1.0 \t out = -1.5\n",
      "\n",
      "In invariant = -3 \t\t Out invariant = -3.5\n",
      "In energy = 0.059523809523809534 \t\t Out out = 0.03174603174603177\n",
      " i = 1 --> False\n",
      " bell formula in = -3.0 \t out = -3.5\n",
      "\n",
      "In invariant = -6 \t\t Out invariant = -6.5\n",
      "In energy = 0.015151515151515152 \t\t Out out = 0.009090909090909094\n",
      " i = 2 --> False\n",
      " bell formula in = -6.0 \t out = -6.5\n",
      "\n",
      "In invariant = -10 \t\t Out invariant = -10.5\n",
      "In energy = 0.003885003885003884 \t\t Out out = 0.0024864024864024864\n",
      " i = 3 --> False\n",
      " bell formula in = -10.0 \t out = -10.5\n",
      "\n",
      "In invariant = -15 \t\t Out invariant = -15.5\n",
      "In energy = 0.0009990009990009999 \t\t Out out = 0.000666000666000666\n",
      " i = 4 --> False\n",
      " bell formula in = -15.0 \t out = -15.5\n",
      "\n",
      "In invariant = -21 \t\t Out invariant = -21.5\n",
      "In energy = 0.00025709584533113944 \t\t Out out = 0.00017629429394135305\n",
      " i = 5 --> False\n",
      " bell formula in = -21.0 \t out = -21.5\n",
      "\n",
      "In invariant = -28 \t\t Out invariant = -28.5\n",
      "In energy = 6.615331692731079e-05 \t\t Out out = 4.630732184911744e-05\n",
      " i = 6 --> False\n",
      " bell formula in = -28.0 \t out = -28.5\n",
      "\n",
      "In invariant = -36 \t\t Out invariant = -36.5\n",
      "In energy = 1.7010852924165623e-05 \t\t Out out = 1.2096606523851123e-05\n",
      " i = 7 --> False\n",
      " bell formula in = -36.0 \t out = -36.5\n",
      "\n",
      "In invariant = -45 \t\t Out invariant = -45.5\n",
      "In energy = 4.370377233481283e-06 \t\t Out out = 3.1466716081065307e-06\n",
      " i = 8 --> False\n",
      " bell formula in = -45.0 \t out = -45.5\n",
      "\n",
      "In invariant = -55 \t\t Out invariant = -55.5\n",
      "In energy = 1.1217301565935307e-06 \t\t Out out = 8.158037502498393e-07\n",
      " i = 9 --> False\n",
      " bell formula in = -55.0 \t out = -55.5\n",
      "\n",
      "In invariant = -66 \t\t Out invariant = -66.5\n",
      "In energy = 2.876231170752643e-07 \t\t Out out = 2.109236191885277e-07\n",
      " i = 10 --> False\n",
      " bell formula in = -66.0 \t out = -66.5\n",
      "\n",
      "In invariant = -78 \t\t Out invariant = -78.5\n",
      "In energy = 7.367685757592951e-08 \t\t Out out = 5.440752559453279e-08\n",
      " i = 11 --> False\n",
      " bell formula in = -78.0 \t out = -78.5\n",
      "\n",
      "In invariant = -91 \t\t Out invariant = -91.5\n",
      "In energy = 1.8854937745237853e-08 \t\t Out out = 1.4006525182176721e-08\n",
      " i = 12 --> False\n",
      " bell formula in = -91.0 \t out = -91.5\n",
      "\n",
      "In invariant = -105 \t\t Out invariant = -105.5\n",
      "In energy = 4.820864764407395e-09 \t\t Out out = 3.5995790240908485e-09\n",
      " i = 13 --> False\n",
      " bell formula in = -105.0 \t out = -105.5\n",
      "\n",
      "In invariant = -120 \t\t Out invariant = -120.5\n",
      "In energy = 1.2315486456973538e-09 \t\t Out out = 9.23661484273012e-10\n",
      " i = 14 --> False\n",
      " bell formula in = -120.0 \t out = -120.5\n",
      "\n",
      "In invariant = -136 \t\t Out invariant = -136.5\n",
      "In energy = 3.1435926391674296e-10 \t\t Out out = 2.3669403400790214e-10\n",
      " i = 15 --> False\n",
      " bell formula in = -136.0 \t out = -136.5\n",
      "\n",
      "In invariant = -153 \t\t Out invariant = -153.5\n",
      "In energy = 8.018070294232718e-11 \t\t Out out = 6.058097555642508e-11\n",
      " i = 16 --> False\n",
      " bell formula in = -153.0 \t out = -153.5\n",
      "\n",
      "In invariant = -171 \t\t Out invariant = -171.5\n",
      "In energy = 2.0436301115788315e-11 \t\t Out out = 1.548856505617635e-11\n",
      " i = 17 --> False\n",
      " bell formula in = -171.0 \t out = -171.5\n",
      "\n",
      "In invariant = -190 \t\t Out invariant = -190.5\n",
      "In energy = 5.205259420411196e-12 \t\t Out out = 3.955997159512464e-12\n",
      " i = 18 --> False\n",
      " bell formula in = -190.0 \t out = -190.5\n",
      "\n",
      "In invariant = -210 \t\t Out invariant = -210.5\n",
      "In energy = 1.3249751251955542e-12 \t\t Out out = 1.0095048572918508e-12\n",
      " i = 19 --> False\n",
      " bell formula in = -210.0 \t out = -210.5\n",
      "\n"
     ]
    }
   ],
   "source": [
    "PHOTONS_1 = 2\n",
    "EXTRA_PHOTONS = 2\n",
    "EXTRA_MODES = 1\n",
    "\n",
    "for i in range(20):\n",
    "    EXTRA_PHOTONS = i\n",
    "\n",
    "    INPUT_STATE = PureState([[1, 1, 0, 0] + [1] * EXTRA_PHOTONS + [0] * EXTRA_MODES], [1])\n",
    "\n",
    "    BELL_STATE = PureState(\n",
    "        [\n",
    "            [1, 0, 1, 0] + [1] * EXTRA_PHOTONS + [0] * EXTRA_MODES,\n",
    "            [0, 1, 0, 1] + [1] * EXTRA_PHOTONS + [0] * EXTRA_MODES,\n",
    "        ],\n",
    "        [1 / np.sqrt(2), 1 / np.sqrt(2)],\n",
    "    )\n",
    "    print(f\" {i = } --> {can_transition_no_basis(INPUT_STATE, BELL_STATE)}\")\n",
    "    print(f\" bell formula in = {-(i**2 + 3*i + 2)/2} \\t out = {-(i**2 + 3*i + 3)/2}\\n\")\n"
   ]
  },
  {
   "cell_type": "code",
   "execution_count": 19,
   "metadata": {},
   "outputs": [
    {
     "name": "stdout",
     "output_type": "stream",
     "text": [
      "In invariant = -16.0 \t\t Out invariant = -22.0\n",
      " i = 0 --> False\n",
      "\n",
      "In invariant = -24.0 \t\t Out invariant = -30.0\n",
      " i = 1 --> False\n",
      "\n",
      "In invariant = -33.0 \t\t Out invariant = -39.0\n",
      " i = 2 --> False\n",
      "\n",
      "In invariant = -43.0 \t\t Out invariant = -49.0\n",
      " i = 3 --> False\n",
      "\n",
      "In invariant = -54.0 \t\t Out invariant = -60.0\n",
      " i = 4 --> False\n",
      "\n",
      "In invariant = -66.0 \t\t Out invariant = -72.0\n",
      " i = 5 --> False\n",
      "\n",
      "In invariant = -79.0 \t\t Out invariant = -85.0\n",
      " i = 6 --> False\n",
      "\n",
      "In invariant = -93.0 \t\t Out invariant = -99.0\n",
      " i = 7 --> False\n",
      "\n",
      "In invariant = -108.0 \t\t Out invariant = -114.0\n",
      " i = 8 --> False\n",
      "\n",
      "In invariant = -124.0 \t\t Out invariant = -130.0\n",
      " i = 9 --> False\n",
      "\n",
      "In invariant = -141.0 \t\t Out invariant = -147.0\n",
      " i = 10 --> False\n",
      "\n",
      "In invariant = -159.0 \t\t Out invariant = -165.0\n",
      " i = 11 --> False\n",
      "\n",
      "In invariant = -178.0 \t\t Out invariant = -184.0\n",
      " i = 12 --> False\n",
      "\n",
      "In invariant = -198.0 \t\t Out invariant = -204.0\n",
      " i = 13 --> False\n",
      "\n",
      "In invariant = -219.0 \t\t Out invariant = -225.0\n",
      " i = 14 --> False\n",
      "\n",
      "In invariant = -241.0 \t\t Out invariant = -247.0\n",
      " i = 15 --> False\n",
      "\n",
      "In invariant = -264.0 \t\t Out invariant = -270.0\n",
      " i = 16 --> False\n",
      "\n",
      "In invariant = -288.0 \t\t Out invariant = -294.0\n",
      " i = 17 --> False\n",
      "\n",
      "In invariant = -313.0 \t\t Out invariant = -319.0\n",
      " i = 18 --> False\n",
      "\n",
      "In invariant = -339.0 \t\t Out invariant = -345.0\n",
      " i = 19 --> False\n",
      "\n"
     ]
    }
   ],
   "source": [
    "PHOTONS_1 = 2\n",
    "EXTRA_PHOTONS = 2\n",
    "EXTRA_MODES = 1\n",
    "N = 4\n",
    "\n",
    "for i in range(20):\n",
    "    EXTRA_PHOTONS = i\n",
    "\n",
    "    INPUT_STATE = PureState(\n",
    "        [\n",
    "            [2*N, 0, 0, 0] + [1] * EXTRA_PHOTONS + [0] * EXTRA_MODES,\n",
    "            [N, N, 0, 0] + [1] * EXTRA_PHOTONS + [0] * EXTRA_MODES,\n",
    "            [0, 2*N, 0, 0] + [1] * EXTRA_PHOTONS + [0] * EXTRA_MODES,\n",
    "        ],\n",
    "        [1 / np.sqrt(3), 1 / np.sqrt(3), 1 / np.sqrt(3)],\n",
    "    )\n",
    "\n",
    "    BELL_STATE = PureState(\n",
    "        [\n",
    "            [N, 0, N, 0] + [1] * EXTRA_PHOTONS + [0] * EXTRA_MODES,\n",
    "            [0, N, 0, N] + [1] * EXTRA_PHOTONS + [0] * EXTRA_MODES,\n",
    "        ],\n",
    "        [np.sqrt(N- 1) / np.sqrt(N), 1 / np.sqrt(N)],\n",
    "    )\n",
    "    print(f\" {i = } --> {can_transition_no_basis(INPUT_STATE, BELL_STATE)}\\n\")\n"
   ]
  },
  {
   "cell_type": "code",
   "execution_count": 2,
   "metadata": {},
   "outputs": [
    {
     "name": "stdout",
     "output_type": "stream",
     "text": [
      "0\n",
      "-1\n",
      "0\n",
      "-1.0\n",
      "In state invariant  -1\n",
      "Out state invariant  -1.0\n"
     ]
    },
    {
     "data": {
      "text/plain": [
       "True"
      ]
     },
     "execution_count": 2,
     "metadata": {},
     "output_type": "execute_result"
    }
   ],
   "source": [
    "input_ = PureState([[1, 1]], [1])\n",
    "output = PureState([[2, 0], [0, 2]], [1 / np.sqrt(2), 1 / np.sqrt(2)])\n",
    "\n",
    "can_transition_no_basis(input_, output)"
   ]
  },
  {
   "cell_type": "code",
   "execution_count": 2,
   "metadata": {},
   "outputs": [
    {
     "name": "stdout",
     "output_type": "stream",
     "text": [
      "0\n",
      "-1\n",
      "0.8888888888888893\n",
      "-0.11111111111111116\n",
      "In state invariant  -1\n",
      "Out state invariant  -0.11111111111111116\n"
     ]
    },
    {
     "data": {
      "text/plain": [
       "False"
      ]
     },
     "execution_count": 2,
     "metadata": {},
     "output_type": "execute_result"
    }
   ],
   "source": [
    "input_ = PureState([[1, 1]], [1])\n",
    "output = PureState([[2, 0], [1, 1], [0, 2]], [1 / np.sqrt(3), 1 / np.sqrt(3), 1 / np.sqrt(3)])\n",
    "\n",
    "can_transition_no_basis(input_, output)"
   ]
  }
 ],
 "metadata": {
  "kernelspec": {
   "display_name": "quantum",
   "language": "python",
   "name": "python3"
  },
  "language_info": {
   "codemirror_mode": {
    "name": "ipython",
    "version": 3
   },
   "file_extension": ".py",
   "mimetype": "text/x-python",
   "name": "python",
   "nbconvert_exporter": "python",
   "pygments_lexer": "ipython3",
   "version": "3.10.9"
  },
  "orig_nbformat": 4
 },
 "nbformat": 4,
 "nbformat_minor": 2
}
